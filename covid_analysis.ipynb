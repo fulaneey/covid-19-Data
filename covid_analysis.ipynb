{
 "cells": [
  {
   "cell_type": "code",
   "execution_count": 1,
   "id": "a9372230",
   "metadata": {},
   "outputs": [
    {
     "name": "stdout",
     "output_type": "stream",
     "text": [
      "<class 'pandas.core.frame.DataFrame'>\n",
      "RangeIndex: 429435 entries, 0 to 429434\n",
      "Data columns (total 67 columns):\n",
      " #   Column                                      Non-Null Count   Dtype  \n",
      "---  ------                                      --------------   -----  \n",
      " 0   iso_code                                    429435 non-null  object \n",
      " 1   continent                                   402910 non-null  object \n",
      " 2   location                                    429435 non-null  object \n",
      " 3   date                                        429435 non-null  object \n",
      " 4   total_cases                                 411804 non-null  float64\n",
      " 5   new_cases                                   410159 non-null  float64\n",
      " 6   new_cases_smoothed                          408929 non-null  float64\n",
      " 7   total_deaths                                411804 non-null  float64\n",
      " 8   new_deaths                                  410608 non-null  float64\n",
      " 9   new_deaths_smoothed                         409378 non-null  float64\n",
      " 10  total_cases_per_million                     411804 non-null  float64\n",
      " 11  new_cases_per_million                       410159 non-null  float64\n",
      " 12  new_cases_smoothed_per_million              408929 non-null  float64\n",
      " 13  total_deaths_per_million                    411804 non-null  float64\n",
      " 14  new_deaths_per_million                      410608 non-null  float64\n",
      " 15  new_deaths_smoothed_per_million             409378 non-null  float64\n",
      " 16  reproduction_rate                           184817 non-null  float64\n",
      " 17  icu_patients                                39116 non-null   float64\n",
      " 18  icu_patients_per_million                    39116 non-null   float64\n",
      " 19  hosp_patients                               40656 non-null   float64\n",
      " 20  hosp_patients_per_million                   40656 non-null   float64\n",
      " 21  weekly_icu_admissions                       10993 non-null   float64\n",
      " 22  weekly_icu_admissions_per_million           10993 non-null   float64\n",
      " 23  weekly_hosp_admissions                      24497 non-null   float64\n",
      " 24  weekly_hosp_admissions_per_million          24497 non-null   float64\n",
      " 25  total_tests                                 79387 non-null   float64\n",
      " 26  new_tests                                   75403 non-null   float64\n",
      " 27  total_tests_per_thousand                    79387 non-null   float64\n",
      " 28  new_tests_per_thousand                      75403 non-null   float64\n",
      " 29  new_tests_smoothed                          103965 non-null  float64\n",
      " 30  new_tests_smoothed_per_thousand             103965 non-null  float64\n",
      " 31  positive_rate                               95927 non-null   float64\n",
      " 32  tests_per_case                              94348 non-null   float64\n",
      " 33  tests_units                                 106788 non-null  object \n",
      " 34  total_vaccinations                          85417 non-null   float64\n",
      " 35  people_vaccinated                           81132 non-null   float64\n",
      " 36  people_fully_vaccinated                     78061 non-null   float64\n",
      " 37  total_boosters                              53600 non-null   float64\n",
      " 38  new_vaccinations                            70971 non-null   float64\n",
      " 39  new_vaccinations_smoothed                   195029 non-null  float64\n",
      " 40  total_vaccinations_per_hundred              85417 non-null   float64\n",
      " 41  people_vaccinated_per_hundred               81132 non-null   float64\n",
      " 42  people_fully_vaccinated_per_hundred         78061 non-null   float64\n",
      " 43  total_boosters_per_hundred                  53600 non-null   float64\n",
      " 44  new_vaccinations_smoothed_per_million       195029 non-null  float64\n",
      " 45  new_people_vaccinated_smoothed              192177 non-null  float64\n",
      " 46  new_people_vaccinated_smoothed_per_hundred  192177 non-null  float64\n",
      " 47  stringency_index                            196190 non-null  float64\n",
      " 48  population_density                          360492 non-null  float64\n",
      " 49  median_age                                  334663 non-null  float64\n",
      " 50  aged_65_older                               323270 non-null  float64\n",
      " 51  aged_70_older                               331315 non-null  float64\n",
      " 52  gdp_per_capita                              328292 non-null  float64\n",
      " 53  extreme_poverty                             211996 non-null  float64\n",
      " 54  cardiovasc_death_rate                       328865 non-null  float64\n",
      " 55  diabetes_prevalence                         345911 non-null  float64\n",
      " 56  female_smokers                              247165 non-null  float64\n",
      " 57  male_smokers                                243817 non-null  float64\n",
      " 58  handwashing_facilities                      161741 non-null  float64\n",
      " 59  hospital_beds_per_thousand                  290689 non-null  float64\n",
      " 60  life_expectancy                             390299 non-null  float64\n",
      " 61  human_development_index                     319127 non-null  float64\n",
      " 62  population                                  429435 non-null  int64  \n",
      " 63  excess_mortality_cumulative_absolute        13411 non-null   float64\n",
      " 64  excess_mortality_cumulative                 13411 non-null   float64\n",
      " 65  excess_mortality                            13411 non-null   float64\n",
      " 66  excess_mortality_cumulative_per_million     13411 non-null   float64\n",
      "dtypes: float64(61), int64(1), object(5)\n",
      "memory usage: 219.5+ MB\n",
      "None\n",
      "  iso_code continent     location        date  total_cases  new_cases  \\\n",
      "0      AFG      Asia  Afghanistan  2020-01-05          0.0        0.0   \n",
      "1      AFG      Asia  Afghanistan  2020-01-06          0.0        0.0   \n",
      "2      AFG      Asia  Afghanistan  2020-01-07          0.0        0.0   \n",
      "3      AFG      Asia  Afghanistan  2020-01-08          0.0        0.0   \n",
      "4      AFG      Asia  Afghanistan  2020-01-09          0.0        0.0   \n",
      "\n",
      "   new_cases_smoothed  total_deaths  new_deaths  new_deaths_smoothed  ...  \\\n",
      "0                 NaN           0.0         0.0                  NaN  ...   \n",
      "1                 NaN           0.0         0.0                  NaN  ...   \n",
      "2                 NaN           0.0         0.0                  NaN  ...   \n",
      "3                 NaN           0.0         0.0                  NaN  ...   \n",
      "4                 NaN           0.0         0.0                  NaN  ...   \n",
      "\n",
      "   male_smokers  handwashing_facilities  hospital_beds_per_thousand  \\\n",
      "0           NaN                  37.746                         0.5   \n",
      "1           NaN                  37.746                         0.5   \n",
      "2           NaN                  37.746                         0.5   \n",
      "3           NaN                  37.746                         0.5   \n",
      "4           NaN                  37.746                         0.5   \n",
      "\n",
      "   life_expectancy  human_development_index  population  \\\n",
      "0            64.83                    0.511    41128772   \n",
      "1            64.83                    0.511    41128772   \n",
      "2            64.83                    0.511    41128772   \n",
      "3            64.83                    0.511    41128772   \n",
      "4            64.83                    0.511    41128772   \n",
      "\n",
      "   excess_mortality_cumulative_absolute  excess_mortality_cumulative  \\\n",
      "0                                   NaN                          NaN   \n",
      "1                                   NaN                          NaN   \n",
      "2                                   NaN                          NaN   \n",
      "3                                   NaN                          NaN   \n",
      "4                                   NaN                          NaN   \n",
      "\n",
      "   excess_mortality  excess_mortality_cumulative_per_million  \n",
      "0               NaN                                      NaN  \n",
      "1               NaN                                      NaN  \n",
      "2               NaN                                      NaN  \n",
      "3               NaN                                      NaN  \n",
      "4               NaN                                      NaN  \n",
      "\n",
      "[5 rows x 67 columns]\n",
      "iso_code                                        0\n",
      "continent                                   26525\n",
      "location                                        0\n",
      "date                                            0\n",
      "total_cases                                 17631\n",
      "                                            ...  \n",
      "population                                      0\n",
      "excess_mortality_cumulative_absolute       416024\n",
      "excess_mortality_cumulative                416024\n",
      "excess_mortality                           416024\n",
      "excess_mortality_cumulative_per_million    416024\n",
      "Length: 67, dtype: int64\n"
     ]
    }
   ],
   "source": [
    "import pandas as pd\n",
    "import matplotlib.pyplot as plt\n",
    "import seaborn as sns\n",
    "\n",
    "# Load the dataset\n",
    "covid_df = pd.read_csv('owid-covid-data.csv')\n",
    "\n",
    "# Initial exploration\n",
    "print(covid_df.info())\n",
    "print(covid_df.head())\n",
    "print(covid_df.isnull().sum())"
   ]
  },
  {
   "cell_type": "code",
   "execution_count": 2,
   "id": "eb810241",
   "metadata": {},
   "outputs": [
    {
     "name": "stderr",
     "output_type": "stream",
     "text": [
      "C:\\Users\\USER\\AppData\\Local\\Temp\\ipykernel_6816\\3498106078.py:9: DeprecationWarning: DataFrameGroupBy.apply operated on the grouping columns. This behavior is deprecated, and in a future version of pandas the grouping columns will be excluded from the operation. Either pass `include_groups=False` to exclude the groupings or explicitly select the grouping columns after groupby to silence this warning.\n",
      "  cleaned_df = filtered_df.groupby('location').apply(lambda group: group.ffill())\n"
     ]
    }
   ],
   "source": [
    "# Convert date column to datetime\n",
    "covid_df['date'] = pd.to_datetime(covid_df['date'])\n",
    "\n",
    "# Select countries of interest\n",
    "countries = ['United States', 'India', 'Brazil', 'United Kingdom', 'Kenya', 'South Africa']\n",
    "filtered_df = covid_df[covid_df['location'].isin(countries)]\n",
    "\n",
    "# Handle missing values - fill forward for time series data\n",
    "cleaned_df = filtered_df.groupby('location').apply(lambda group: group.ffill())"
   ]
  },
  {
   "cell_type": "code",
   "execution_count": 3,
   "id": "0003ff60",
   "metadata": {},
   "outputs": [
    {
     "data": {
      "image/png": "[encoded data removed]",
      "text/plain": [
       "<Figure size 1200x600 with 1 Axes>"
      ]
     },
     "metadata": {},
     "output_type": "display_data"
    },
    {
     "data": {
      "image/png": "[encoded data removed]",
      "text/plain": [
       "<Figure size 1200x600 with 1 Axes>"
      ]
     },
     "metadata": {},
     "output_type": "display_data"
    }
   ],
   "source": [
    "# Plot total cases over time\n",
    "plt.figure(figsize=(12, 6))\n",
    "sns.lineplot(data=cleaned_df, x='date', y='total_cases', hue='location')\n",
    "plt.title('Total COVID-19 Cases Over Time')\n",
    "plt.ylabel('Total Cases')\n",
    "plt.xlabel('Date')\n",
    "plt.xticks(rotation=45)\n",
    "plt.show()\n",
    "\n",
    "# Calculate and plot death rates\n",
    "cleaned_df['death_rate'] = cleaned_df['total_deaths'] / cleaned_df['total_cases']\n",
    "\n",
    "plt.figure(figsize=(12, 6))\n",
    "sns.lineplot(data=cleaned_df, x='date', y='death_rate', hue='location')\n",
    "plt.title('COVID-19 Death Rate Over Time')\n",
    "plt.ylabel('Death Rate (Deaths/Cases)')\n",
    "plt.xlabel('Date')\n",
    "plt.xticks(rotation=45)\n",
    "plt.show()"
   ]
  },
  {
   "cell_type": "code",
   "execution_count": 4,
   "id": "7c9f1756",
   "metadata": {},
   "outputs": [
    {
     "data": {
      "image/png": "[encoded data removed]",
      "text/plain": [
       "<Figure size 1200x600 with 1 Axes>"
      ]
     },
     "metadata": {},
     "output_type": "display_data"
    }
   ],
   "source": [
    "# Plot vaccination progress\n",
    "plt.figure(figsize=(12, 6))\n",
    "sns.lineplot(data=cleaned_df, x='date', y='people_fully_vaccinated_per_hundred', hue='location')\n",
    "plt.title('COVID-19 Vaccination Progress (Fully Vaccinated per 100 People)')\n",
    "plt.ylabel('Percentage Fully Vaccinated')\n",
    "plt.xlabel('Date')\n",
    "plt.xticks(rotation=45)\n",
    "plt.show()"
   ]
  },
  {
   "cell_type": "code",
   "execution_count": 5,
   "id": "375f6e85",
   "metadata": {},
   "outputs": [
    {
     "data": {
      "application/vnd.plotly.v1+json": {
       "config": {
        "plotlyServerURL": "https://plot.ly"
       },
       "data": [
        {
         "coloraxis": "coloraxis",
         "geo": "geo",
         "hovertemplate": "<b>%{hovertext}</b><br><br>iso_code=%{location}<br>total_cases_per_million=%{z}<extra></extra>",
         "hovertext": [
          "Afghanistan",
          "Africa",
          "Albania",
          "Algeria",
          "American Samoa",
          "Andorra",
          "Angola",
          "Anguilla",
          "Antigua and Barbuda",
          "Argentina",
          "Armenia",
          "Aruba",
          "Asia",
          "Australia",
          "Austria",
          "Azerbaijan",
          "Bahamas",
          "Bahrain",
          "Bangladesh",
          "Barbados",
          "Belarus",
          "Belgium",
          "Belize",
          "Benin",
          "Bermuda",
          "Bhutan",
          "Bolivia",
          "Bonaire Sint Eustatius and Saba",
          "Bosnia and Herzegovina",
          "Botswana",
          "Brazil",
          "British Virgin Islands",
          "Brunei",
          "Bulgaria",
          "Burkina Faso",
          "Burundi",
          "Cambodia",
          "Cameroon",
          "Canada",
          "Cape Verde",
          "Cayman Islands",
          "Central African Republic",
          "Chad",
          "Chile",
          "China",
          "Colombia",
          "Comoros",
          "Congo",
          "Cook Islands",
          "Costa Rica",
          "Cote d'Ivoire",
          "Croatia",
          "Cuba",
          "Curacao",
          "Cyprus",
          "Czechia",
          "Democratic Republic of Congo",
          "Denmark",
          "Djibouti",
          "Dominica",
          "Dominican Republic",
          "East Timor",
          "Ecuador",
          "Egypt",
          "El Salvador",
          "England",
          "Equatorial Guinea",
          "Eritrea",
          "Estonia",
          "Eswatini",
          "Ethiopia",
          "Europe",
          "European Union (27)",
          "Falkland Islands",
          "Faroe Islands",
          "Fiji",
          "Finland",
          "France",
          "French Guiana",
          "French Polynesia",
          "Gabon",
          "Gambia",
          "Georgia",
          "Germany",
          "Ghana",
          "Gibraltar",
          "Greece",
          "Greenland",
          "Grenada",
          "Guadeloupe",
          "Guam",
          "Guatemala",
          "Guernsey",
          "Guinea",
          "Guinea-Bissau",
          "Guyana",
          "Haiti",
          "High-income countries",
          "Honduras",
          "Hong Kong",
          "Hungary",
          "Iceland",
          "India",
          "Indonesia",
          "Iran",
          "Iraq",
          "Ireland",
          "Isle of Man",
          "Israel",
          "Italy",
          "Jamaica",
          "Japan",
          "Jersey",
          "Jordan",
          "Kazakhstan",
          "Kenya",
          "Kiribati",
          "Kosovo",
          "Kuwait",
          "Kyrgyzstan",
          "Laos",
          "Latvia",
          "Lebanon",
          "Lesotho",
          "Liberia",
          "Libya",
          "Liechtenstein",
          "Lithuania",
          "Low-income countries",
          "Lower-middle-income countries",
          "Luxembourg",
          "Macao",
          "Madagascar",
          "Malawi",
          "Malaysia",
          "Maldives",
          "Mali",
          "Malta",
          "Marshall Islands",
          "Martinique",
          "Mauritania",
          "Mauritius",
          "Mayotte",
          "Mexico",
          "Micronesia (country)",
          "Moldova",
          "Monaco",
          "Mongolia",
          "Montenegro",
          "Montserrat",
          "Morocco",
          "Mozambique",
          "Myanmar",
          "Namibia",
          "Nauru",
          "Nepal",
          "Netherlands",
          "New Caledonia",
          "New Zealand",
          "Nicaragua",
          "Niger",
          "Nigeria",
          "Niue",
          "North America",
          "North Korea",
          "North Macedonia",
          "Northern Cyprus",
          "Northern Ireland",
          "Northern Mariana Islands",
          "Norway",
          "Oceania",
          "Oman",
          "Pakistan",
          "Palau",
          "Palestine",
          "Panama",
          "Papua New Guinea",
          "Paraguay",
          "Peru",
          "Philippines",
          "Pitcairn",
          "Poland",
          "Portugal",
          "Puerto Rico",
          "Qatar",
          "Reunion",
          "Romania",
          "Russia",
          "Rwanda",
          "Saint Barthelemy",
          "Saint Helena",
          "Saint Kitts and Nevis",
          "Saint Lucia",
          "Saint Martin (French part)",
          "Saint Pierre and Miquelon",
          "Saint Vincent and the Grenadines",
          "Samoa",
          "San Marino",
          "Sao Tome and Principe",
          "Saudi Arabia",
          "Scotland",
          "Senegal",
          "Serbia",
          "Seychelles",
          "Sierra Leone",
          "Singapore",
          "Sint Maarten (Dutch part)",
          "Slovakia",
          "Slovenia",
          "Solomon Islands",
          "Somalia",
          "South Africa",
          "South America",
          "South Korea",
          "South Sudan",
          "Spain",
          "Sri Lanka",
          "Sudan",
          "Suriname",
          "Sweden",
          "Switzerland",
          "Syria",
          "Taiwan",
          "Tajikistan",
          "Tanzania",
          "Thailand",
          "Togo",
          "Tokelau",
          "Tonga",
          "Trinidad and Tobago",
          "Tunisia",
          "Turkey",
          "Turkmenistan",
          "Turks and Caicos Islands",
          "Tuvalu",
          "Uganda",
          "Ukraine",
          "United Arab Emirates",
          "United Kingdom",
          "United States",
          "United States Virgin Islands",
          "Upper-middle-income countries",
          "Uruguay",
          "Uzbekistan",
          "Vanuatu",
          "Vatican",
          "Venezuela",
          "Vietnam",
          "Wales",
          "Wallis and Futuna",
          "Western Sahara",
          "World",
          "Yemen",
          "Zambia",
          "Zimbabwe"
         ],
         "locations": [
          "AFG",
          "OWID_AFR",
          "ALB",
          "DZA",
          "ASM",
          "AND",
          "AGO",
          "AIA",
          "ATG",
          "ARG",
          "ARM",
          "ABW",
          "OWID_ASI",
          "AUS",
          "AUT",
          "AZE",
          "BHS",
          "BHR",
          "BGD",
          "BRB",
          "BLR",
          "BEL",
          "BLZ",
          "BEN",
          "BMU",
          "BTN",
          "BOL",
          "BES",
          "BIH",
          "BWA",
          "BRA",
          "VGB",
          "BRN",
          "BGR",
          "BFA",
          "BDI",
          "KHM",
          "CMR",
          "CAN",
          "CPV",
          "CYM",
          "CAF",
          "TCD",
          "CHL",
          "CHN",
          "COL",
          "COM",
          "COG",
          "COK",
          "CRI",
          "CIV",
          "HRV",
          "CUB",
          "CUW",
          "CYP",
          "CZE",
          "COD",
          "DNK",
          "DJI",
          "DMA",
          "DOM",
          "TLS",
          "ECU",
          "EGY",
          "SLV",
          "OWID_ENG",
          "GNQ",
          "ERI",
          "EST",
          "SWZ",
          "ETH",
          "OWID_EUR",
          "OWID_EUN",
          "FLK",
          "FRO",
          "FJI",
          "FIN",
          "FRA",
          "GUF",
          "PYF",
          "GAB",
          "GMB",
          "GEO",
          "DEU",
          "GHA",
          "GIB",
          "GRC",
          "GRL",
          "GRD",
          "GLP",
          "GUM",
          "GTM",
          "GGY",
          "GIN",
          "GNB",
          "GUY",
          "HTI",
          "OWID_HIC",
          "HND",
          "HKG",
          "HUN",
          "ISL",
          "IND",
          "IDN",
          "IRN",
          "IRQ",
          "IRL",
          "IMN",
          "ISR",
          "ITA",
          "JAM",
          "JPN",
          "JEY",
          "JOR",
          "KAZ",
          "KEN",
          "KIR",
          "OWID_KOS",
          "KWT",
          "KGZ",
          "LAO",
          "LVA",
          "LBN",
          "LSO",
          "LBR",
          "LBY",
          "LIE",
          "LTU",
          "OWID_LIC",
          "OWID_LMC",
          "LUX",
          "MAC",
          "MDG",
          "MWI",
          "MYS",
          "MDV",
          "MLI",
          "MLT",
          "MHL",
          "MTQ",
          "MRT",
          "MUS",
          "MYT",
          "MEX",
          "FSM",
          "MDA",
          "MCO",
          "MNG",
          "MNE",
          "MSR",
          "MAR",
          "MOZ",
          "MMR",
          "NAM",
          "NRU",
          "NPL",
          "NLD",
          "NCL",
          "NZL",
          "NIC",
          "NER",
          "NGA",
          "NIU",
          "OWID_NAM",
          "PRK",
          "MKD",
          "OWID_CYN",
          "OWID_NIR",
          "MNP",
          "NOR",
          "OWID_OCE",
          "OMN",
          "PAK",
          "PLW",
          "PSE",
          "PAN",
          "PNG",
          "PRY",
          "PER",
          "PHL",
          "PCN",
          "POL",
          "PRT",
          "PRI",
          "QAT",
          "REU",
          "ROU",
          "RUS",
          "RWA",
          "BLM",
          "SHN",
          "KNA",
          "LCA",
          "MAF",
          "SPM",
          "VCT",
          "WSM",
          "SMR",
          "STP",
          "SAU",
          "OWID_SCT",
          "SEN",
          "SRB",
          "SYC",
          "SLE",
          "SGP",
          "SXM",
          "SVK",
          "SVN",
          "SLB",
          "SOM",
          "ZAF",
          "OWID_SAM",
          "KOR",
          "SSD",
          "ESP",
          "LKA",
          "SDN",
          "SUR",
          "SWE",
          "CHE",
          "SYR",
          "TWN",
          "TJK",
          "TZA",
          "THA",
          "TGO",
          "TKL",
          "TON",
          "TTO",
          "TUN",
          "TUR",
          "TKM",
          "TCA",
          "TUV",
          "UGA",
          "UKR",
          "ARE",
          "GBR",
          "USA",
          "VIR",
          "OWID_UMC",
          "URY",
          "UZB",
          "VUT",
          "VAT",
          "VEN",
          "VNM",
          "OWID_WLS",
          "WLF",
          "ESH",
          "OWID_WRL",
          "YEM",
          "ZMB",
          "ZWE"
         ],
         "name": "",
         "type": "choropleth",
         "z": {
          "bdata": "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",
          "dtype": "f8"
         }
        }
       ],
       "layout": {
        "coloraxis": {
         "colorbar": {
          "title": {
           "text": "total_cases_per_million"
          }
         },
         "colorscale": [
          [
           0,
           "#0d0887"
          ],
          [
           0.1111111111111111,
           "#46039f"
          ],
          [
           0.2222222222222222,
           "#7201a8"
          ],
          [
           0.3333333333333333,
           "#9c179e"
          ],
          [
           0.4444444444444444,
           "#bd3786"
          ],
          [
           0.5555555555555556,
           "#d8576b"
          ],
          [
           0.6666666666666666,
           "#ed7953"
          ],
          [
           0.7777777777777778,
           "#fb9f3a"
          ],
          [
           0.8888888888888888,
           "#fdca26"
          ],
          [
           1,
           "#f0f921"
          ]
         ]
        },
        "geo": {
         "center": {},
         "domain": {
          "x": [
           0,
           1
          ],
          "y": [
           0,
           1
          ]
         }
        },
        "legend": {
         "tracegroupgap": 0
        },
        "template": {
         "data": {
          "bar": [
           {
            "error_x": {
             "color": "#2a3f5f"
            },
            "error_y": {
             "color": "#2a3f5f"
            },
            "marker": {
             "line": {
              "color": "#E5ECF6",
              "width": 0.5
             },
             "pattern": {
              "fillmode": "overlay",
              "size": 10,
              "solidity": 0.2
             }
            },
            "type": "bar"
           }
          ],
          "barpolar": [
           {
            "marker": {
             "line": {
              "color": "#E5ECF6",
              "width": 0.5
             },
             "pattern": {
              "fillmode": "overlay",
              "size": 10,
              "solidity": 0.2
             }
            },
            "type": "barpolar"
           }
          ],
          "carpet": [
           {
            "aaxis": {
             "endlinecolor": "#2a3f5f",
             "gridcolor": "white",
             "linecolor": "white",
             "minorgridcolor": "white",
             "startlinecolor": "#2a3f5f"
            },
            "baxis": {
             "endlinecolor": "#2a3f5f",
             "gridcolor": "white",
             "linecolor": "white",
             "minorgridcolor": "white",
             "startlinecolor": "#2a3f5f"
            },
            "type": "carpet"
           }
          ],
          "choropleth": [
           {
            "colorbar": {
             "outlinewidth": 0,
             "ticks": ""
            },
            "type": "choropleth"
           }
          ],
          "contour": [
           {
            "colorbar": {
             "outlinewidth": 0,
             "ticks": ""
            },
            "colorscale": [
             [
              0,
              "#0d0887"
             ],
             [
              0.1111111111111111,
              "#46039f"
             ],
             [
              0.2222222222222222,
              "#7201a8"
             ],
             [
              0.3333333333333333,
              "#9c179e"
             ],
             [
              0.4444444444444444,
              "#bd3786"
             ],
             [
              0.5555555555555556,
              "#d8576b"
             ],
             [
              0.6666666666666666,
              "#ed7953"
             ],
             [
              0.7777777777777778,
              "#fb9f3a"
             ],
             [
              0.8888888888888888,
              "#fdca26"
             ],
             [
              1,
              "#f0f921"
             ]
            ],
            "type": "contour"
           }
          ],
          "contourcarpet": [
           {
            "colorbar": {
             "outlinewidth": 0,
             "ticks": ""
            },
            "type": "contourcarpet"
           }
          ],
          "heatmap": [
           {
            "colorbar": {
             "outlinewidth": 0,
             "ticks": ""
            },
            "colorscale": [
             [
              0,
              "#0d0887"
             ],
             [
              0.1111111111111111,
              "#46039f"
             ],
             [
              0.2222222222222222,
              "#7201a8"
             ],
             [
              0.3333333333333333,
              "#9c179e"
             ],
             [
              0.4444444444444444,
              "#bd3786"
             ],
             [
              0.5555555555555556,
              "#d8576b"
             ],
             [
              0.6666666666666666,
              "#ed7953"
             ],
             [
              0.7777777777777778,
              "#fb9f3a"
             ],
             [
              0.8888888888888888,
              "#fdca26"
             ],
             [
              1,
              "#f0f921"
             ]
            ],
            "type": "heatmap"
           }
          ],
          "histogram": [
           {
            "marker": {
             "pattern": {
              "fillmode": "overlay",
              "size": 10,
              "solidity": 0.2
             }
            },
            "type": "histogram"
           }
          ],
          "histogram2d": [
           {
            "colorbar": {
             "outlinewidth": 0,
             "ticks": ""
            },
            "colorscale": [
             [
              0,
              "#0d0887"
             ],
             [
              0.1111111111111111,
              "#46039f"
             ],
             [
              0.2222222222222222,
              "#7201a8"
             ],
             [
              0.3333333333333333,
              "#9c179e"
             ],
             [
              0.4444444444444444,
              "#bd3786"
             ],
             [
              0.5555555555555556,
              "#d8576b"
             ],
             [
              0.6666666666666666,
              "#ed7953"
             ],
             [
              0.7777777777777778,
              "#fb9f3a"
             ],
             [
              0.8888888888888888,
              "#fdca26"
             ],
             [
              1,
              "#f0f921"
             ]
            ],
            "type": "histogram2d"
           }
          ],
          "histogram2dcontour": [
           {
            "colorbar": {
             "outlinewidth": 0,
             "ticks": ""
            },
            "colorscale": [
             [
              0,
              "#0d0887"
             ],
             [
              0.1111111111111111,
              "#46039f"
             ],
             [
              0.2222222222222222,
              "#7201a8"
             ],
             [
              0.3333333333333333,
              "#9c179e"
             ],
             [
              0.4444444444444444,
              "#bd3786"
             ],
             [
              0.5555555555555556,
              "#d8576b"
             ],
             [
              0.6666666666666666,
              "#ed7953"
             ],
             [
              0.7777777777777778,
              "#fb9f3a"
             ],
             [
              0.8888888888888888,
              "#fdca26"
             ],
             [
              1,
              "#f0f921"
             ]
            ],
            "type": "histogram2dcontour"
           }
          ],
          "mesh3d": [
           {
            "colorbar": {
             "outlinewidth": 0,
             "ticks": ""
            },
            "type": "mesh3d"
           }
          ],
          "parcoords": [
           {
            "line": {
             "colorbar": {
              "outlinewidth": 0,
              "ticks": ""
             }
            },
            "type": "parcoords"
           }
          ],
          "pie": [
           {
            "automargin": true,
            "type": "pie"
           }
          ],
          "scatter": [
           {
            "fillpattern": {
             "fillmode": "overlay",
             "size": 10,
             "solidity": 0.2
            },
            "type": "scatter"
           }
          ],
          "scatter3d": [
           {
            "line": {
             "colorbar": {
              "outlinewidth": 0,
              "ticks": ""
             }
            },
            "marker": {
             "colorbar": {
              "outlinewidth": 0,
              "ticks": ""
             }
            },
            "type": "scatter3d"
           }
          ],
          "scattercarpet": [
           {
            "marker": {
             "colorbar": {
              "outlinewidth": 0,
              "ticks": ""
             }
            },
            "type": "scattercarpet"
           }
          ],
          "scattergeo": [
           {
            "marker": {
             "colorbar": {
              "outlinewidth": 0,
              "ticks": ""
             }
            },
            "type": "scattergeo"
           }
          ],
          "scattergl": [
           {
            "marker": {
             "colorbar": {
              "outlinewidth": 0,
              "ticks": ""
             }
            },
            "type": "scattergl"
           }
          ],
          "scattermap": [
           {
            "marker": {
             "colorbar": {
              "outlinewidth": 0,
              "ticks": ""
             }
            },
            "type": "scattermap"
           }
          ],
          "scattermapbox": [
           {
            "marker": {
             "colorbar": {
              "outlinewidth": 0,
              "ticks": ""
             }
            },
            "type": "scattermapbox"
           }
          ],
          "scatterpolar": [
           {
            "marker": {
             "colorbar": {
              "outlinewidth": 0,
              "ticks": ""
             }
            },
            "type": "scatterpolar"
           }
          ],
          "scatterpolargl": [
           {
            "marker": {
             "colorbar": {
              "outlinewidth": 0,
              "ticks": ""
             }
            },
            "type": "scatterpolargl"
           }
          ],
          "scatterternary": [
           {
            "marker": {
             "colorbar": {
              "outlinewidth": 0,
              "ticks": ""
             }
            },
            "type": "scatterternary"
           }
          ],
          "surface": [
           {
            "colorbar": {
             "outlinewidth": 0,
             "ticks": ""
            },
            "colorscale": [
             [
              0,
              "#0d0887"
             ],
             [
              0.1111111111111111,
              "#46039f"
             ],
             [
              0.2222222222222222,
              "#7201a8"
             ],
             [
              0.3333333333333333,
              "#9c179e"
             ],
             [
              0.4444444444444444,
              "#bd3786"
             ],
             [
              0.5555555555555556,
              "#d8576b"
             ],
             [
              0.6666666666666666,
              "#ed7953"
             ],
             [
              0.7777777777777778,
              "#fb9f3a"
             ],
             [
              0.8888888888888888,
              "#fdca26"
             ],
             [
              1,
              "#f0f921"
             ]
            ],
            "type": "surface"
           }
          ],
          "table": [
           {
            "cells": {
             "fill": {
              "color": "#EBF0F8"
             },
             "line": {
              "color": "white"
             }
            },
            "header": {
             "fill": {
              "color": "#C8D4E3"
             },
             "line": {
              "color": "white"
             }
            },
            "type": "table"
           }
          ]
         },
         "layout": {
          "annotationdefaults": {
           "arrowcolor": "#2a3f5f",
           "arrowhead": 0,
           "arrowwidth": 1
          },
          "autotypenumbers": "strict",
          "coloraxis": {
           "colorbar": {
            "outlinewidth": 0,
            "ticks": ""
           }
          },
          "colorscale": {
           "diverging": [
            [
             0,
             "#8e0152"
            ],
            [
             0.1,
             "#c51b7d"
            ],
            [
             0.2,
             "#de77ae"
            ],
            [
             0.3,
             "#f1b6da"
            ],
            [
             0.4,
             "#fde0ef"
            ],
            [
             0.5,
             "#f7f7f7"
            ],
            [
             0.6,
             "#e6f5d0"
            ],
            [
             0.7,
             "#b8e186"
            ],
            [
             0.8,
             "#7fbc41"
            ],
            [
             0.9,
             "#4d9221"
            ],
            [
             1,
             "#276419"
            ]
           ],
           "sequential": [
            [
             0,
             "#0d0887"
            ],
            [
             0.1111111111111111,
             "#46039f"
            ],
            [
             0.2222222222222222,
             "#7201a8"
            ],
            [
             0.3333333333333333,
             "#9c179e"
            ],
            [
             0.4444444444444444,
             "#bd3786"
            ],
            [
             0.5555555555555556,
             "#d8576b"
            ],
            [
             0.6666666666666666,
             "#ed7953"
            ],
            [
             0.7777777777777778,
             "#fb9f3a"
            ],
            [
             0.8888888888888888,
             "#fdca26"
            ],
            [
             1,
             "#f0f921"
            ]
           ],
           "sequentialminus": [
            [
             0,
             "#0d0887"
            ],
            [
             0.1111111111111111,
             "#46039f"
            ],
            [
             0.2222222222222222,
             "#7201a8"
            ],
            [
             0.3333333333333333,
             "#9c179e"
            ],
            [
             0.4444444444444444,
             "#bd3786"
            ],
            [
             0.5555555555555556,
             "#d8576b"
            ],
            [
             0.6666666666666666,
             "#ed7953"
            ],
            [
             0.7777777777777778,
             "#fb9f3a"
            ],
            [
             0.8888888888888888,
             "#fdca26"
            ],
            [
             1,
             "#f0f921"
            ]
           ]
          },
          "colorway": [
           "#636efa",
           "#EF553B",
           "#00cc96",
           "#ab63fa",
           "#FFA15A",
           "#19d3f3",
           "#FF6692",
           "#B6E880",
           "#FF97FF",
           "#FECB52"
          ],
          "font": {
           "color": "#2a3f5f"
          },
          "geo": {
           "bgcolor": "white",
           "lakecolor": "white",
           "landcolor": "#E5ECF6",
           "showlakes": true,
           "showland": true,
           "subunitcolor": "white"
          },
          "hoverlabel": {
           "align": "left"
          },
          "hovermode": "closest",
          "mapbox": {
           "style": "light"
          },
          "paper_bgcolor": "white",
          "plot_bgcolor": "#E5ECF6",
          "polar": {
           "angularaxis": {
            "gridcolor": "white",
            "linecolor": "white",
            "ticks": ""
           },
           "bgcolor": "#E5ECF6",
           "radialaxis": {
            "gridcolor": "white",
            "linecolor": "white",
            "ticks": ""
           }
          },
          "scene": {
           "xaxis": {
            "backgroundcolor": "#E5ECF6",
            "gridcolor": "white",
            "gridwidth": 2,
            "linecolor": "white",
            "showbackground": true,
            "ticks": "",
            "zerolinecolor": "white"
           },
           "yaxis": {
            "backgroundcolor": "#E5ECF6",
            "gridcolor": "white",
            "gridwidth": 2,
            "linecolor": "white",
            "showbackground": true,
            "ticks": "",
            "zerolinecolor": "white"
           },
           "zaxis": {
            "backgroundcolor": "#E5ECF6",
            "gridcolor": "white",
            "gridwidth": 2,
            "linecolor": "white",
            "showbackground": true,
            "ticks": "",
            "zerolinecolor": "white"
           }
          },
          "shapedefaults": {
           "line": {
            "color": "#2a3f5f"
           }
          },
          "ternary": {
           "aaxis": {
            "gridcolor": "white",
            "linecolor": "white",
            "ticks": ""
           },
           "baxis": {
            "gridcolor": "white",
            "linecolor": "white",
            "ticks": ""
           },
           "bgcolor": "#E5ECF6",
           "caxis": {
            "gridcolor": "white",
            "linecolor": "white",
            "ticks": ""
           }
          },
          "title": {
           "x": 0.05
          },
          "xaxis": {
           "automargin": true,
           "gridcolor": "white",
           "linecolor": "white",
           "ticks": "",
           "title": {
            "standoff": 15
           },
           "zerolinecolor": "white",
           "zerolinewidth": 2
          },
          "yaxis": {
           "automargin": true,
           "gridcolor": "white",
           "linecolor": "white",
           "ticks": "",
           "title": {
            "standoff": 15
           },
           "zerolinecolor": "white",
           "zerolinewidth": 2
          }
         }
        },
        "title": {
         "text": "Total COVID-19 Cases per Million People"
        }
       }
      }
     },
     "metadata": {},
     "output_type": "display_data"
    }
   ],
   "source": [
    "import plotly.express as px\n",
    "\n",
    "# Get latest data for each country\n",
    "latest_data = covid_df.sort_values('date').groupby('location').last().reset_index()\n",
    "\n",
    "# Create choropleth\n",
    "fig = px.choropleth(latest_data, \n",
    "                    locations=\"iso_code\",\n",
    "                    color=\"total_cases_per_million\",\n",
    "                    hover_name=\"location\",\n",
    "                    color_continuous_scale=px.colors.sequential.Plasma,\n",
    "                    title=\"Total COVID-19 Cases per Million People\")\n",
    "fig.show()"
   ]
  },
  {
   "cell_type": "markdown",
   "id": "0797a9f8",
   "metadata": {},
   "source": [
    "## Key Insights\n",
    "\n",
    "1. **Vaccination Disparities**: Developed nations like the US and UK showed rapid vaccination rollout compared to developing countries like Kenya.\n",
    "\n",
    "2. **Case Trends**: Brazil experienced significant waves of infections, while India had a dramatic spike in mid-2021.\n",
    "\n",
    "3. **Death Rates**: Countries with robust healthcare systems generally maintained lower death rates despite high case numbers.\n",
    "\n",
    "4. **Regional Patterns**: African nations generally reported lower case numbers but this may reflect differences in testing capacity.\n",
    "\n",
    "5. **Vaccination Impact**: Countries with early vaccination campaigns saw slower subsequent case growth."
   ]
  }
 ],
 "metadata": {
  "kernelspec": {
   "display_name": "Python 3",
   "language": "python",
   "name": "python3"
  },
  "language_info": {
   "codemirror_mode": {
    "name": "ipython",
    "version": 3
   },
   "file_extension": ".py",
   "mimetype": "text/x-python",
   "name": "python",
   "nbconvert_exporter": "python",
   "pygments_lexer": "ipython3",
   "version": "3.13.3"
  }
 },
 "nbformat": 4,
 "nbformat_minor": 5
}
