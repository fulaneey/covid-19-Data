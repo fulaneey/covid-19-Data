{
 "cells": [
  {
   "cell_type": "code",
   "execution_count": null,
   "id": "a9372230",
   "metadata": {},
   "outputs": [],
   "source": [
    "import pandas as pd\n",
    "import matplotlib.pyplot as plt\n",
    "import seaborn as sns\n",
    "\n",
    "# Load the dataset\n",
    "covid_df = pd.read_csv('owid-covid-data.csv')\n",
    "\n",
    "# Initial exploration\n",
    "print(covid_df.info())\n",
    "print(covid_df.head())\n",
    "print(covid_df.isnull().sum())"
   ]
  },
  {
   "cell_type": "code",
   "execution_count": null,
   "id": "3aab6a5b",
   "metadata": {},
   "outputs": [],
   "source": [
    "# Convert date column to datetime\n",
    "covid_df['date'] = pd.to_datetime(covid_df['date'])\n",
    "\n",
    "# Select countries of interest\n",
    "countries = ['United States', 'India', 'Brazil', 'United Kingdom', 'Kenya', 'South Africa']\n",
    "filtered_df = covid_df[covid_df['location'].isin(countries)]\n",
    "\n",
    "# Handle missing values - fill forward for time series data\n",
    "cleaned_df = filtered_df.groupby('location').apply(lambda group: group.ffill())"
   ]
  },
  {
   "cell_type": "code",
   "execution_count": null,
   "id": "0003ff60",
   "metadata": {},
   "outputs": [],
   "source": [
    "# Plot total cases over time\n",
    "plt.figure(figsize=(12, 6))\n",
    "sns.lineplot(data=cleaned_df, x='date', y='total_cases', hue='location')\n",
    "plt.title('Total COVID-19 Cases Over Time')\n",
    "plt.ylabel('Total Cases')\n",
    "plt.xlabel('Date')\n",
    "plt.xticks(rotation=45)\n",
    "plt.show()\n",
    "\n",
    "# Calculate and plot death rates\n",
    "cleaned_df['death_rate'] = cleaned_df['total_deaths'] / cleaned_df['total_cases']\n",
    "\n",
    "plt.figure(figsize=(12, 6))\n",
    "sns.lineplot(data=cleaned_df, x='date', y='death_rate', hue='location')\n",
    "plt.title('COVID-19 Death Rate Over Time')\n",
    "plt.ylabel('Death Rate (Deaths/Cases)')\n",
    "plt.xlabel('Date')\n",
    "plt.xticks(rotation=45)\n",
    "plt.show()"
   ]
  },
  {
   "cell_type": "code",
   "execution_count": null,
   "id": "7c9f1756",
   "metadata": {},
   "outputs": [],
   "source": [
    "# Plot vaccination progress\n",
    "plt.figure(figsize=(12, 6))\n",
    "sns.lineplot(data=cleaned_df, x='date', y='people_fully_vaccinated_per_hundred', hue='location')\n",
    "plt.title('COVID-19 Vaccination Progress (Fully Vaccinated per 100 People)')\n",
    "plt.ylabel('Percentage Fully Vaccinated')\n",
    "plt.xlabel('Date')\n",
    "plt.xticks(rotation=45)\n",
    "plt.show()"
   ]
  },
  {
   "cell_type": "code",
   "execution_count": null,
   "id": "375f6e85",
   "metadata": {},
   "outputs": [],
   "source": [
    "import plotly.express as px\n",
    "\n",
    "# Get latest data for each country\n",
    "latest_data = covid_df.sort_values('date').groupby('location').last().reset_index()\n",
    "\n",
    "# Create choropleth\n",
    "fig = px.choropleth(latest_data, \n",
    "                    locations=\"iso_code\",\n",
    "                    color=\"total_cases_per_million\",\n",
    "                    hover_name=\"location\",\n",
    "                    color_continuous_scale=px.colors.sequential.Plasma,\n",
    "                    title=\"Total COVID-19 Cases per Million People\")\n",
    "fig.show()"
   ]
  },
  {
   "cell_type": "markdown",
   "id": "0797a9f8",
   "metadata": {},
   "source": [
    "## Key Insights\n",
    "\n",
    "1. **Vaccination Disparities**: Developed nations like the US and UK showed rapid vaccination rollout compared to developing countries like Kenya.\n",
    "\n",
    "2. **Case Trends**: Brazil experienced significant waves of infections, while India had a dramatic spike in mid-2021.\n",
    "\n",
    "3. **Death Rates**: Countries with robust healthcare systems generally maintained lower death rates despite high case numbers.\n",
    "\n",
    "4. **Regional Patterns**: African nations generally reported lower case numbers but this may reflect differences in testing capacity.\n",
    "\n",
    "5. **Vaccination Impact**: Countries with early vaccination campaigns saw slower subsequent case growth."
   ]
  }
 ],
 "metadata": {
  "kernelspec": {
   "display_name": "Python 3",
   "language": "python",
   "name": "python3"
  },
  "language_info": {
   "codemirror_mode": {
    "name": "ipython",
    "version": 3
   },
   "file_extension": ".py",
   "mimetype": "text/x-python",
   "name": "python",
   "nbconvert_exporter": "python",
   "pygments_lexer": "ipython3",
   "version": "3.13.3"
  }
 },
 "nbformat": 4,
 "nbformat_minor": 5
}
